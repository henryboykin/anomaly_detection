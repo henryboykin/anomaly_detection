{
 "cells": [
  {
   "cell_type": "code",
   "execution_count": 1,
   "id": "de29fc06",
   "metadata": {},
   "outputs": [
    {
     "name": "stdout",
     "output_type": "stream",
     "text": [
      "Requirement already satisfied: pyod in c:\\users\\henry\\anaconda3\\lib\\site-packages (1.1.0)\n",
      "Requirement already satisfied: joblib in c:\\users\\henry\\anaconda3\\lib\\site-packages (from pyod) (1.1.0)\n",
      "Requirement already satisfied: numpy>=1.19 in c:\\users\\henry\\anaconda3\\lib\\site-packages (from pyod) (1.20.3)\n",
      "Requirement already satisfied: matplotlib in c:\\users\\henry\\anaconda3\\lib\\site-packages (from pyod) (3.4.3)\n",
      "Requirement already satisfied: scipy>=1.5.1 in c:\\users\\henry\\anaconda3\\lib\\site-packages (from pyod) (1.7.1)\n",
      "Requirement already satisfied: scikit-learn>=0.20.0 in c:\\users\\henry\\anaconda3\\lib\\site-packages (from pyod) (0.24.2)\n",
      "Requirement already satisfied: numba>=0.51 in c:\\users\\henry\\anaconda3\\lib\\site-packages (from pyod) (0.54.1)\n",
      "Requirement already satisfied: six in c:\\users\\henry\\anaconda3\\lib\\site-packages (from pyod) (1.16.0)\n",
      "Requirement already satisfied: setuptools in c:\\users\\henry\\anaconda3\\lib\\site-packages (from numba>=0.51->pyod) (58.0.4)\n",
      "Requirement already satisfied: llvmlite<0.38,>=0.37.0rc1 in c:\\users\\henry\\anaconda3\\lib\\site-packages (from numba>=0.51->pyod) (0.37.0)\n",
      "Requirement already satisfied: threadpoolctl>=2.0.0 in c:\\users\\henry\\anaconda3\\lib\\site-packages (from scikit-learn>=0.20.0->pyod) (2.2.0)\n",
      "Requirement already satisfied: cycler>=0.10 in c:\\users\\henry\\anaconda3\\lib\\site-packages (from matplotlib->pyod) (0.10.0)\n",
      "Requirement already satisfied: pillow>=6.2.0 in c:\\users\\henry\\anaconda3\\lib\\site-packages (from matplotlib->pyod) (8.4.0)\n",
      "Requirement already satisfied: python-dateutil>=2.7 in c:\\users\\henry\\anaconda3\\lib\\site-packages (from matplotlib->pyod) (2.8.2)\n",
      "Requirement already satisfied: kiwisolver>=1.0.1 in c:\\users\\henry\\anaconda3\\lib\\site-packages (from matplotlib->pyod) (1.3.1)\n",
      "Requirement already satisfied: pyparsing>=2.2.1 in c:\\users\\henry\\anaconda3\\lib\\site-packages (from matplotlib->pyod) (3.0.4)\n"
     ]
    }
   ],
   "source": [
    "!pip install pyod"
   ]
  },
  {
   "cell_type": "code",
   "execution_count": 2,
   "id": "b414d9b2",
   "metadata": {},
   "outputs": [],
   "source": [
    "import pandas as pd\n",
    "import numpy as np\n",
    "import matplotlib.pyplot as plt\n",
    "import seaborn as sns"
   ]
  },
  {
   "cell_type": "markdown",
   "id": "38b07f99",
   "metadata": {},
   "source": [
    "# Potential Solution 1: Detecting Outiliers with IForest using contamination "
   ]
  },
  {
   "cell_type": "code",
   "execution_count": 3,
   "id": "1ff848f3",
   "metadata": {},
   "outputs": [],
   "source": [
    "df = pd.DataFrame({\n",
    "    \"var1\" : [0.85, 1.25, 1.60, 1.25, 1.10, 0.75, 1.5, 3.30, 3.0],\n",
    "    \"var2\" : [3.15, 3.5, 3.15, 2.95, 3.0, 2.8, 2.6, 3.0, 1.0],\n",
    "    \"cat1\" : \"A B C D E F G H I\".split(' '),\n",
    "})"
   ]
  },
  {
   "cell_type": "code",
   "execution_count": 4,
   "id": "d8d6ea80",
   "metadata": {},
   "outputs": [],
   "source": [
    "sns.set_style('darkgrid')\n",
    "#sns.set(rc={'figure.figsize':(15.7,7.27)})"
   ]
  },
  {
   "cell_type": "code",
   "execution_count": 5,
   "id": "d16d18b7",
   "metadata": {
    "scrolled": true
   },
   "outputs": [
    {
     "data": {
      "image/png": "[encoded data removed]",
      "text/plain": [
       "<Figure size 432x288 with 1 Axes>"
      ]
     },
     "metadata": {},
     "output_type": "display_data"
    }
   ],
   "source": [
    "sns.scatterplot(data=df, x='var1', y='var2')\n",
    "for i in range(df.shape[0]):\n",
    "    plt.text(x=df.var1.tolist()[i]+0.05,y=df.var2.tolist()[i]+0.05, \n",
    "             s=df.cat1.tolist()[i], \n",
    "          fontdict=dict(color='#002244',size=10))\n",
    "plt.show()"
   ]
  },
  {
   "cell_type": "code",
   "execution_count": 6,
   "id": "d5e2afa1",
   "metadata": {},
   "outputs": [
    {
     "name": "stderr",
     "output_type": "stream",
     "text": [
      "C:\\Users\\henry\\anaconda3\\lib\\site-packages\\sklearn\\utils\\deprecation.py:86: FutureWarning: Function fit_predict is deprecated\n",
      "  warnings.warn(msg, category=FutureWarning)\n"
     ]
    }
   ],
   "source": [
    "# Import IForest from pyod\n",
    "from pyod.models.iforest import IForest\n",
    "\n",
    "# Initialize an instance\n",
    "#set the contamination argurment.  What is contamination?\n",
    "# it is a threshold level that must be between 0 and 0.5\n",
    "# The higher, the more records it will classify as \"outlier\" \n",
    "# though also with high contamination value the more likely are\n",
    "# false positives\n",
    "\n",
    "iforest = IForest(contamination=0.15)\n",
    "\n",
    "# Generate outlier labels and remove the non numerical features\n",
    "labels = iforest.fit_predict(df[['var1', 'var2']])\n",
    "\n",
    "# Filter big_mart for outliers\n",
    "outliers = df[labels==1]"
   ]
  },
  {
   "cell_type": "markdown",
   "id": "d73cdb9e",
   "metadata": {},
   "source": [
    "With a contamination of 0.15 the model identified \"H\" and \"I\" as outliers"
   ]
  },
  {
   "cell_type": "code",
   "execution_count": 7,
   "id": "41f47d35",
   "metadata": {},
   "outputs": [
    {
     "data": {
      "text/plain": [
       "(2, 3)"
      ]
     },
     "metadata": {},
     "output_type": "display_data"
    },
    {
     "data": {
      "text/html": [
       "<div>\n",
       "<style scoped>\n",
       "    .dataframe tbody tr th:only-of-type {\n",
       "        vertical-align: middle;\n",
       "    }\n",
       "\n",
       "    .dataframe tbody tr th {\n",
       "        vertical-align: top;\n",
       "    }\n",
       "\n",
       "    .dataframe thead th {\n",
       "        text-align: right;\n",
       "    }\n",
       "</style>\n",
       "<table border=\"1\" class=\"dataframe\">\n",
       "  <thead>\n",
       "    <tr style=\"text-align: right;\">\n",
       "      <th></th>\n",
       "      <th>var1</th>\n",
       "      <th>var2</th>\n",
       "      <th>cat1</th>\n",
       "    </tr>\n",
       "  </thead>\n",
       "  <tbody>\n",
       "    <tr>\n",
       "      <th>7</th>\n",
       "      <td>3.3</td>\n",
       "      <td>3.0</td>\n",
       "      <td>H</td>\n",
       "    </tr>\n",
       "    <tr>\n",
       "      <th>8</th>\n",
       "      <td>3.0</td>\n",
       "      <td>1.0</td>\n",
       "      <td>I</td>\n",
       "    </tr>\n",
       "  </tbody>\n",
       "</table>\n",
       "</div>"
      ],
      "text/plain": [
       "   var1  var2 cat1\n",
       "7   3.3   3.0    H\n",
       "8   3.0   1.0    I"
      ]
     },
     "metadata": {},
     "output_type": "display_data"
    },
    {
     "data": {
      "text/plain": [
       "array([0, 0, 0, 0, 0, 0, 0, 1, 1])"
      ]
     },
     "metadata": {},
     "output_type": "display_data"
    },
    {
     "data": {
      "text/plain": [
       "array([0, 0, 0, 0, 0, 0, 0, 1, 1])"
      ]
     },
     "metadata": {},
     "output_type": "display_data"
    }
   ],
   "source": [
    "display((outliers.shape))\n",
    "display((outliers))\n",
    "display(labels)\n",
    "display(iforest.labels_)"
   ]
  },
  {
   "cell_type": "code",
   "execution_count": 8,
   "id": "6fc82dfb",
   "metadata": {},
   "outputs": [
    {
     "data": {
      "text/plain": [
       "array([1, 0])"
      ]
     },
     "metadata": {},
     "output_type": "display_data"
    }
   ],
   "source": [
    "#predict new data\n",
    "new_data = [[2.8, 1.5], [1.0, 3.0]]\n",
    "display(iforest.predict(new_data))"
   ]
  },
  {
   "cell_type": "code",
   "execution_count": 9,
   "id": "2daa9963",
   "metadata": {},
   "outputs": [
    {
     "data": {
      "text/plain": [
       "array([[0.81193374, 0.18806626],\n",
       "       [0.64237319, 0.35762681],\n",
       "       [0.84844815, 0.15155185],\n",
       "       [1.        , 0.        ],\n",
       "       [0.97892757, 0.02107243],\n",
       "       [0.64771553, 0.35228447],\n",
       "       [0.69364332, 0.30635668],\n",
       "       [0.4474507 , 0.5525493 ],\n",
       "       [0.        , 1.        ]])"
      ]
     },
     "metadata": {},
     "output_type": "display_data"
    }
   ],
   "source": [
    "#find the confidence\n",
    "#first column is probability of record being an inlier while the second is probablity of it being an outlier\n",
    "all_probs = iforest.predict_proba(df[['var1', 'var2']])\n",
    "display(all_probs)"
   ]
  },
  {
   "cell_type": "markdown",
   "id": "e3776a68",
   "metadata": {},
   "source": [
    "# Potential Solution 2: Detecting Outiliers with IForest using the N_estimators, max_samples, and max_features"
   ]
  },
  {
   "cell_type": "code",
   "execution_count": 10,
   "id": "2559d92d",
   "metadata": {},
   "outputs": [],
   "source": [
    "#going to use the boston housing data set"
   ]
  },
  {
   "cell_type": "code",
   "execution_count": 11,
   "id": "0ff3d1f5",
   "metadata": {},
   "outputs": [],
   "source": [
    "from sklearn import datasets"
   ]
  },
  {
   "cell_type": "code",
   "execution_count": 12,
   "id": "66e2e329",
   "metadata": {},
   "outputs": [
    {
     "name": "stdout",
     "output_type": "stream",
     "text": [
      "\n",
      "(506, 13)\n",
      "\n",
      "(506,)\n"
     ]
    }
   ],
   "source": [
    "boston = datasets.load_boston()\n",
    "\n",
    "X = boston.data\n",
    "print(); print(X.shape);\n",
    "y = boston.target\n",
    "print(); print(y.shape);\n",
    "\n",
    "df1 = pd.DataFrame(X)\n",
    "df1.columns = ['CRIM', 'ZN', 'INDUS', 'CHAS', 'NOX', 'RM', 'AGE', 'DIS', \n",
    "               'RAD', 'TAX', 'PTRATIO', 'B', 'LSTAT']\n",
    "dftarget = pd.DataFrame(y, columns =['Target'])\n",
    "df1 = pd.concat([df1, dftarget], axis=1)"
   ]
  },
  {
   "cell_type": "code",
   "execution_count": 13,
   "id": "8bca1cf7",
   "metadata": {},
   "outputs": [
    {
     "data": {
      "text/html": [
       "<div>\n",
       "<style scoped>\n",
       "    .dataframe tbody tr th:only-of-type {\n",
       "        vertical-align: middle;\n",
       "    }\n",
       "\n",
       "    .dataframe tbody tr th {\n",
       "        vertical-align: top;\n",
       "    }\n",
       "\n",
       "    .dataframe thead th {\n",
       "        text-align: right;\n",
       "    }\n",
       "</style>\n",
       "<table border=\"1\" class=\"dataframe\">\n",
       "  <thead>\n",
       "    <tr style=\"text-align: right;\">\n",
       "      <th></th>\n",
       "      <th>CRIM</th>\n",
       "      <th>ZN</th>\n",
       "      <th>INDUS</th>\n",
       "      <th>CHAS</th>\n",
       "      <th>NOX</th>\n",
       "      <th>RM</th>\n",
       "      <th>AGE</th>\n",
       "      <th>DIS</th>\n",
       "      <th>RAD</th>\n",
       "      <th>TAX</th>\n",
       "      <th>PTRATIO</th>\n",
       "      <th>B</th>\n",
       "      <th>LSTAT</th>\n",
       "      <th>Target</th>\n",
       "    </tr>\n",
       "  </thead>\n",
       "  <tbody>\n",
       "    <tr>\n",
       "      <th>0</th>\n",
       "      <td>0.00632</td>\n",
       "      <td>18.0</td>\n",
       "      <td>2.31</td>\n",
       "      <td>0.0</td>\n",
       "      <td>0.538</td>\n",
       "      <td>6.575</td>\n",
       "      <td>65.2</td>\n",
       "      <td>4.0900</td>\n",
       "      <td>1.0</td>\n",
       "      <td>296.0</td>\n",
       "      <td>15.3</td>\n",
       "      <td>396.90</td>\n",
       "      <td>4.98</td>\n",
       "      <td>24.0</td>\n",
       "    </tr>\n",
       "    <tr>\n",
       "      <th>1</th>\n",
       "      <td>0.02731</td>\n",
       "      <td>0.0</td>\n",
       "      <td>7.07</td>\n",
       "      <td>0.0</td>\n",
       "      <td>0.469</td>\n",
       "      <td>6.421</td>\n",
       "      <td>78.9</td>\n",
       "      <td>4.9671</td>\n",
       "      <td>2.0</td>\n",
       "      <td>242.0</td>\n",
       "      <td>17.8</td>\n",
       "      <td>396.90</td>\n",
       "      <td>9.14</td>\n",
       "      <td>21.6</td>\n",
       "    </tr>\n",
       "    <tr>\n",
       "      <th>2</th>\n",
       "      <td>0.02729</td>\n",
       "      <td>0.0</td>\n",
       "      <td>7.07</td>\n",
       "      <td>0.0</td>\n",
       "      <td>0.469</td>\n",
       "      <td>7.185</td>\n",
       "      <td>61.1</td>\n",
       "      <td>4.9671</td>\n",
       "      <td>2.0</td>\n",
       "      <td>242.0</td>\n",
       "      <td>17.8</td>\n",
       "      <td>392.83</td>\n",
       "      <td>4.03</td>\n",
       "      <td>34.7</td>\n",
       "    </tr>\n",
       "    <tr>\n",
       "      <th>3</th>\n",
       "      <td>0.03237</td>\n",
       "      <td>0.0</td>\n",
       "      <td>2.18</td>\n",
       "      <td>0.0</td>\n",
       "      <td>0.458</td>\n",
       "      <td>6.998</td>\n",
       "      <td>45.8</td>\n",
       "      <td>6.0622</td>\n",
       "      <td>3.0</td>\n",
       "      <td>222.0</td>\n",
       "      <td>18.7</td>\n",
       "      <td>394.63</td>\n",
       "      <td>2.94</td>\n",
       "      <td>33.4</td>\n",
       "    </tr>\n",
       "    <tr>\n",
       "      <th>4</th>\n",
       "      <td>0.06905</td>\n",
       "      <td>0.0</td>\n",
       "      <td>2.18</td>\n",
       "      <td>0.0</td>\n",
       "      <td>0.458</td>\n",
       "      <td>7.147</td>\n",
       "      <td>54.2</td>\n",
       "      <td>6.0622</td>\n",
       "      <td>3.0</td>\n",
       "      <td>222.0</td>\n",
       "      <td>18.7</td>\n",
       "      <td>396.90</td>\n",
       "      <td>5.33</td>\n",
       "      <td>36.2</td>\n",
       "    </tr>\n",
       "  </tbody>\n",
       "</table>\n",
       "</div>"
      ],
      "text/plain": [
       "      CRIM    ZN  INDUS  CHAS    NOX     RM   AGE     DIS  RAD    TAX  \\\n",
       "0  0.00632  18.0   2.31   0.0  0.538  6.575  65.2  4.0900  1.0  296.0   \n",
       "1  0.02731   0.0   7.07   0.0  0.469  6.421  78.9  4.9671  2.0  242.0   \n",
       "2  0.02729   0.0   7.07   0.0  0.469  7.185  61.1  4.9671  2.0  242.0   \n",
       "3  0.03237   0.0   2.18   0.0  0.458  6.998  45.8  6.0622  3.0  222.0   \n",
       "4  0.06905   0.0   2.18   0.0  0.458  7.147  54.2  6.0622  3.0  222.0   \n",
       "\n",
       "   PTRATIO       B  LSTAT  Target  \n",
       "0     15.3  396.90   4.98    24.0  \n",
       "1     17.8  396.90   9.14    21.6  \n",
       "2     17.8  392.83   4.03    34.7  \n",
       "3     18.7  394.63   2.94    33.4  \n",
       "4     18.7  396.90   5.33    36.2  "
      ]
     },
     "execution_count": 13,
     "metadata": {},
     "output_type": "execute_result"
    }
   ],
   "source": [
    "df1.head()"
   ]
  },
  {
   "cell_type": "markdown",
   "id": "ab208041",
   "metadata": {},
   "source": [
    "When we want to specify the exact number of iTrees in IForest, use the n_estimators parameter.  It defaults to 100, though as the dataset gets larger set it larger.<br>Each Tree trains on a sub sample of the dataset and a sub sample of features, set by max_samples and max_features. Both accept values between 0 and 1. Frequent subsampling reduces the risk of overfitting."
   ]
  },
  {
   "cell_type": "code",
   "execution_count": 14,
   "id": "4e9da9f7",
   "metadata": {},
   "outputs": [
    {
     "name": "stderr",
     "output_type": "stream",
     "text": [
      "C:\\Users\\henry\\anaconda3\\lib\\site-packages\\sklearn\\utils\\deprecation.py:86: FutureWarning: Function fit_predict is deprecated\n",
      "  warnings.warn(msg, category=FutureWarning)\n"
     ]
    }
   ],
   "source": [
    "# Import IForest from pyod\n",
    "from pyod.models.iforest import IForest\n",
    "\n",
    "# Initialize an instance\n",
    "iforest = IForest(n_estimators=200, max_samples=0.6, max_features=0.9)\n",
    "\n",
    "# Generate outlier labels and remove the non numerical features\n",
    "labels = iforest.fit_predict(df1)\n",
    "\n",
    "# Filter big_mart for outliers\n",
    "outliers = df1[labels==1]"
   ]
  },
  {
   "cell_type": "code",
   "execution_count": 15,
   "id": "ce8d4647",
   "metadata": {},
   "outputs": [
    {
     "data": {
      "text/plain": [
       "(51, 14)"
      ]
     },
     "metadata": {},
     "output_type": "display_data"
    },
    {
     "data": {
      "text/html": [
       "<div>\n",
       "<style scoped>\n",
       "    .dataframe tbody tr th:only-of-type {\n",
       "        vertical-align: middle;\n",
       "    }\n",
       "\n",
       "    .dataframe tbody tr th {\n",
       "        vertical-align: top;\n",
       "    }\n",
       "\n",
       "    .dataframe thead th {\n",
       "        text-align: right;\n",
       "    }\n",
       "</style>\n",
       "<table border=\"1\" class=\"dataframe\">\n",
       "  <thead>\n",
       "    <tr style=\"text-align: right;\">\n",
       "      <th></th>\n",
       "      <th>CRIM</th>\n",
       "      <th>ZN</th>\n",
       "      <th>INDUS</th>\n",
       "      <th>CHAS</th>\n",
       "      <th>NOX</th>\n",
       "      <th>RM</th>\n",
       "      <th>AGE</th>\n",
       "      <th>DIS</th>\n",
       "      <th>RAD</th>\n",
       "      <th>TAX</th>\n",
       "      <th>PTRATIO</th>\n",
       "      <th>B</th>\n",
       "      <th>LSTAT</th>\n",
       "      <th>Target</th>\n",
       "    </tr>\n",
       "  </thead>\n",
       "  <tbody>\n",
       "    <tr>\n",
       "      <th>142</th>\n",
       "      <td>3.32105</td>\n",
       "      <td>0.0</td>\n",
       "      <td>19.58</td>\n",
       "      <td>1.0</td>\n",
       "      <td>0.871</td>\n",
       "      <td>5.403</td>\n",
       "      <td>100.0</td>\n",
       "      <td>1.3216</td>\n",
       "      <td>5.0</td>\n",
       "      <td>403.0</td>\n",
       "      <td>14.7</td>\n",
       "      <td>396.90</td>\n",
       "      <td>26.82</td>\n",
       "      <td>13.4</td>\n",
       "    </tr>\n",
       "    <tr>\n",
       "      <th>143</th>\n",
       "      <td>4.09740</td>\n",
       "      <td>0.0</td>\n",
       "      <td>19.58</td>\n",
       "      <td>0.0</td>\n",
       "      <td>0.871</td>\n",
       "      <td>5.468</td>\n",
       "      <td>100.0</td>\n",
       "      <td>1.4118</td>\n",
       "      <td>5.0</td>\n",
       "      <td>403.0</td>\n",
       "      <td>14.7</td>\n",
       "      <td>396.90</td>\n",
       "      <td>26.42</td>\n",
       "      <td>15.6</td>\n",
       "    </tr>\n",
       "    <tr>\n",
       "      <th>144</th>\n",
       "      <td>2.77974</td>\n",
       "      <td>0.0</td>\n",
       "      <td>19.58</td>\n",
       "      <td>0.0</td>\n",
       "      <td>0.871</td>\n",
       "      <td>4.903</td>\n",
       "      <td>97.8</td>\n",
       "      <td>1.3459</td>\n",
       "      <td>5.0</td>\n",
       "      <td>403.0</td>\n",
       "      <td>14.7</td>\n",
       "      <td>396.90</td>\n",
       "      <td>29.29</td>\n",
       "      <td>11.8</td>\n",
       "    </tr>\n",
       "    <tr>\n",
       "      <th>145</th>\n",
       "      <td>2.37934</td>\n",
       "      <td>0.0</td>\n",
       "      <td>19.58</td>\n",
       "      <td>0.0</td>\n",
       "      <td>0.871</td>\n",
       "      <td>6.130</td>\n",
       "      <td>100.0</td>\n",
       "      <td>1.4191</td>\n",
       "      <td>5.0</td>\n",
       "      <td>403.0</td>\n",
       "      <td>14.7</td>\n",
       "      <td>172.91</td>\n",
       "      <td>27.80</td>\n",
       "      <td>13.8</td>\n",
       "    </tr>\n",
       "    <tr>\n",
       "      <th>146</th>\n",
       "      <td>2.15505</td>\n",
       "      <td>0.0</td>\n",
       "      <td>19.58</td>\n",
       "      <td>0.0</td>\n",
       "      <td>0.871</td>\n",
       "      <td>5.628</td>\n",
       "      <td>100.0</td>\n",
       "      <td>1.5166</td>\n",
       "      <td>5.0</td>\n",
       "      <td>403.0</td>\n",
       "      <td>14.7</td>\n",
       "      <td>169.27</td>\n",
       "      <td>16.65</td>\n",
       "      <td>15.6</td>\n",
       "    </tr>\n",
       "  </tbody>\n",
       "</table>\n",
       "</div>"
      ],
      "text/plain": [
       "        CRIM   ZN  INDUS  CHAS    NOX     RM    AGE     DIS  RAD    TAX  \\\n",
       "142  3.32105  0.0  19.58   1.0  0.871  5.403  100.0  1.3216  5.0  403.0   \n",
       "143  4.09740  0.0  19.58   0.0  0.871  5.468  100.0  1.4118  5.0  403.0   \n",
       "144  2.77974  0.0  19.58   0.0  0.871  4.903   97.8  1.3459  5.0  403.0   \n",
       "145  2.37934  0.0  19.58   0.0  0.871  6.130  100.0  1.4191  5.0  403.0   \n",
       "146  2.15505  0.0  19.58   0.0  0.871  5.628  100.0  1.5166  5.0  403.0   \n",
       "\n",
       "     PTRATIO       B  LSTAT  Target  \n",
       "142     14.7  396.90  26.82    13.4  \n",
       "143     14.7  396.90  26.42    15.6  \n",
       "144     14.7  396.90  29.29    11.8  \n",
       "145     14.7  172.91  27.80    13.8  \n",
       "146     14.7  169.27  16.65    15.6  "
      ]
     },
     "metadata": {},
     "output_type": "display_data"
    }
   ],
   "source": [
    "display((outliers.shape))\n",
    "display((outliers.head()))"
   ]
  },
  {
   "cell_type": "markdown",
   "id": "668e6fac",
   "metadata": {},
   "source": [
    "# LOCAL OUTLIER FACTOR (LOF)"
   ]
  },
  {
   "cell_type": "code",
   "execution_count": 16,
   "id": "eb65c24a",
   "metadata": {},
   "outputs": [],
   "source": [
    "# Import LOF from its relevant module\n",
    "from pyod.models.lof import LOF\n",
    "\n",
    "# Instantiate LOF and fit to df less cat1\n",
    "lof = LOF(contamination = 0.25, n_neighbors = 5, n_jobs=-1)\n",
    "lof.fit(df[['var1', 'var2']])\n",
    "\n",
    "# Create a boolean index that checks for outliers\n",
    "is_outlier = lof.labels_ == 1\n",
    "\n",
    "# Isolate the outliers\n",
    "outliers = df[['var1', 'var2']][is_outlier]"
   ]
  },
  {
   "cell_type": "code",
   "execution_count": 17,
   "id": "630b1b66",
   "metadata": {},
   "outputs": [
    {
     "data": {
      "text/plain": [
       "array([False, False, False, False, False, False, False,  True,  True])"
      ]
     },
     "metadata": {},
     "output_type": "display_data"
    },
    {
     "data": {
      "text/html": [
       "<div>\n",
       "<style scoped>\n",
       "    .dataframe tbody tr th:only-of-type {\n",
       "        vertical-align: middle;\n",
       "    }\n",
       "\n",
       "    .dataframe tbody tr th {\n",
       "        vertical-align: top;\n",
       "    }\n",
       "\n",
       "    .dataframe thead th {\n",
       "        text-align: right;\n",
       "    }\n",
       "</style>\n",
       "<table border=\"1\" class=\"dataframe\">\n",
       "  <thead>\n",
       "    <tr style=\"text-align: right;\">\n",
       "      <th></th>\n",
       "      <th>var1</th>\n",
       "      <th>var2</th>\n",
       "    </tr>\n",
       "  </thead>\n",
       "  <tbody>\n",
       "    <tr>\n",
       "      <th>7</th>\n",
       "      <td>3.3</td>\n",
       "      <td>3.0</td>\n",
       "    </tr>\n",
       "    <tr>\n",
       "      <th>8</th>\n",
       "      <td>3.0</td>\n",
       "      <td>1.0</td>\n",
       "    </tr>\n",
       "  </tbody>\n",
       "</table>\n",
       "</div>"
      ],
      "text/plain": [
       "   var1  var2\n",
       "7   3.3   3.0\n",
       "8   3.0   1.0"
      ]
     },
     "metadata": {},
     "output_type": "display_data"
    },
    {
     "data": {
      "text/html": [
       "<div>\n",
       "<style scoped>\n",
       "    .dataframe tbody tr th:only-of-type {\n",
       "        vertical-align: middle;\n",
       "    }\n",
       "\n",
       "    .dataframe tbody tr th {\n",
       "        vertical-align: top;\n",
       "    }\n",
       "\n",
       "    .dataframe thead th {\n",
       "        text-align: right;\n",
       "    }\n",
       "</style>\n",
       "<table border=\"1\" class=\"dataframe\">\n",
       "  <thead>\n",
       "    <tr style=\"text-align: right;\">\n",
       "      <th></th>\n",
       "      <th>var1</th>\n",
       "      <th>var2</th>\n",
       "      <th>cat1</th>\n",
       "    </tr>\n",
       "  </thead>\n",
       "  <tbody>\n",
       "    <tr>\n",
       "      <th>7</th>\n",
       "      <td>3.3</td>\n",
       "      <td>3.0</td>\n",
       "      <td>H</td>\n",
       "    </tr>\n",
       "    <tr>\n",
       "      <th>8</th>\n",
       "      <td>3.0</td>\n",
       "      <td>1.0</td>\n",
       "      <td>I</td>\n",
       "    </tr>\n",
       "  </tbody>\n",
       "</table>\n",
       "</div>"
      ],
      "text/plain": [
       "   var1  var2 cat1\n",
       "7   3.3   3.0    H\n",
       "8   3.0   1.0    I"
      ]
     },
     "execution_count": 17,
     "metadata": {},
     "output_type": "execute_result"
    }
   ],
   "source": [
    "display(is_outlier)\n",
    "display(outliers)\n",
    "\n",
    "df.loc[is_outlier]"
   ]
  },
  {
   "cell_type": "code",
   "execution_count": 18,
   "id": "d720d3a8",
   "metadata": {},
   "outputs": [
    {
     "name": "stdout",
     "output_type": "stream",
     "text": [
      "what were the probabilities:\n"
     ]
    },
    {
     "data": {
      "text/plain": [
       "array([[0.98627779, 0.01372221],\n",
       "       [0.99788182, 0.00211818],\n",
       "       [0.98850549, 0.01149451],\n",
       "       [1.        , 0.        ],\n",
       "       [1.        , 0.        ],\n",
       "       [0.99092099, 0.00907901],\n",
       "       [0.98454708, 0.01545292],\n",
       "       [0.41145346, 0.58854654],\n",
       "       [0.22965136, 0.77034864]])"
      ]
     },
     "metadata": {},
     "output_type": "display_data"
    },
    {
     "data": {
      "text/plain": [
       "array([False, False, False, False, False, False, False,  True,  True])"
      ]
     },
     "metadata": {},
     "output_type": "display_data"
    },
    {
     "name": "stdout",
     "output_type": "stream",
     "text": [
      "is it an outlier defined by having a prob > 0.5\n"
     ]
    },
    {
     "data": {
      "text/html": [
       "<div>\n",
       "<style scoped>\n",
       "    .dataframe tbody tr th:only-of-type {\n",
       "        vertical-align: middle;\n",
       "    }\n",
       "\n",
       "    .dataframe tbody tr th {\n",
       "        vertical-align: top;\n",
       "    }\n",
       "\n",
       "    .dataframe thead th {\n",
       "        text-align: right;\n",
       "    }\n",
       "</style>\n",
       "<table border=\"1\" class=\"dataframe\">\n",
       "  <thead>\n",
       "    <tr style=\"text-align: right;\">\n",
       "      <th></th>\n",
       "      <th>var1</th>\n",
       "      <th>var2</th>\n",
       "      <th>cat1</th>\n",
       "    </tr>\n",
       "  </thead>\n",
       "  <tbody>\n",
       "    <tr>\n",
       "      <th>7</th>\n",
       "      <td>3.3</td>\n",
       "      <td>3.0</td>\n",
       "      <td>H</td>\n",
       "    </tr>\n",
       "    <tr>\n",
       "      <th>8</th>\n",
       "      <td>3.0</td>\n",
       "      <td>1.0</td>\n",
       "      <td>I</td>\n",
       "    </tr>\n",
       "  </tbody>\n",
       "</table>\n",
       "</div>"
      ],
      "text/plain": [
       "   var1  var2 cat1\n",
       "7   3.3   3.0    H\n",
       "8   3.0   1.0    I"
      ]
     },
     "metadata": {},
     "output_type": "display_data"
    }
   ],
   "source": [
    "# Calculate probabilities\n",
    "probs = lof.predict_proba(df[['var1', 'var2']])\n",
    "print('what were the probabilities:')\n",
    "display(probs)\n",
    "\n",
    "# Create a boolean mask\n",
    "is_outlier_with_prob_threshold = probs[:, 1] > 0.5\n",
    "display(is_outlier_with_prob_threshold)\n",
    "# Use the boolean mask to filter the outliers\n",
    "#outliers = df[['var1', 'var2']][is_outlier]\n",
    "print('is it an outlier defined by having a prob > 0.5')\n",
    "display(df.loc[is_outlier_with_prob_threshold])\n"
   ]
  },
  {
   "cell_type": "markdown",
   "id": "79cb09bd",
   "metadata": {},
   "source": [
    "# An Idea of how you might hypertune a model"
   ]
  },
  {
   "cell_type": "code",
   "execution_count": 19,
   "id": "c8ad479d",
   "metadata": {},
   "outputs": [
    {
     "name": "stdout",
     "output_type": "stream",
     "text": [
      "contamination:  0.1 n_neighbors:  3 : [False False False False False False False False  True]\n",
      "contamination:  0.1 n_neighbors:  5 : [False False False False False False False False  True]\n",
      "contamination:  0.1 n_neighbors:  8 : [False False False False False False  True False False]\n",
      "contamination:  0.1 n_neighbors:  12 : [False False False False False False  True False False]\n",
      "contamination:  0.15 n_neighbors:  3 : [False False False False False False False  True  True]\n",
      "contamination:  0.15 n_neighbors:  5 : [False False False False False False False  True  True]\n",
      "contamination:  0.15 n_neighbors:  8 : [False False False False False False  True  True False]\n",
      "contamination:  0.15 n_neighbors:  12 : [False False False False False False  True  True False]\n",
      "contamination:  0.3 n_neighbors:  3 : [False  True False False False False False  True  True]\n",
      "contamination:  0.3 n_neighbors:  5 : [False False False False  True False False  True  True]\n",
      "contamination:  0.3 n_neighbors:  8 : [False False  True False False False  True  True False]\n",
      "contamination:  0.3 n_neighbors:  12 : [False False  True False False False  True  True False]\n"
     ]
    },
    {
     "name": "stderr",
     "output_type": "stream",
     "text": [
      "C:\\Users\\henry\\anaconda3\\lib\\site-packages\\sklearn\\neighbors\\_lof.py:274: UserWarning: n_neighbors (12) is greater than the total number of samples (9). n_neighbors will be set to (n_samples - 1) for estimation.\n",
      "  warnings.warn(\"n_neighbors (%s) is greater than the \"\n",
      "C:\\Users\\henry\\anaconda3\\lib\\site-packages\\sklearn\\neighbors\\_lof.py:274: UserWarning: n_neighbors (12) is greater than the total number of samples (9). n_neighbors will be set to (n_samples - 1) for estimation.\n",
      "  warnings.warn(\"n_neighbors (%s) is greater than the \"\n",
      "C:\\Users\\henry\\anaconda3\\lib\\site-packages\\sklearn\\neighbors\\_lof.py:274: UserWarning: n_neighbors (12) is greater than the total number of samples (9). n_neighbors will be set to (n_samples - 1) for estimation.\n",
      "  warnings.warn(\"n_neighbors (%s) is greater than the \"\n"
     ]
    }
   ],
   "source": [
    "# Instantiate LOF and fit to df less cat1\n",
    "from itertools import product\n",
    "\n",
    "\n",
    "# Create a boolean index that checks for outliers\n",
    "is_outlier = lof.labels_ == 1\n",
    "\n",
    "# Isolate the outliers\n",
    "outliers = df[['var1', 'var2']][is_outlier]\n",
    "\n",
    "\n",
    "\n",
    "\n",
    "contamination = [0.10, 0.15, 0.30]\n",
    "n_neighbors = [3, 5, 8, 12]\n",
    "scores = dict()\n",
    "\n",
    "for con, n_neig in product(contamination, n_neighbors):\n",
    "    lof = LOF(contamination = con, n_neighbors = n_neig, n_jobs=-1)\n",
    "    lof.fit(df[['var1', 'var2']])\n",
    "    # Create a boolean index that checks for outliers\n",
    "    is_outlier = lof.labels_ == 1\n",
    "    print('contamination: ', con, 'n_neighbors: ', n_neig, ':', is_outlier)\n",
    "    "
   ]
  },
  {
   "cell_type": "markdown",
   "id": "fe766606",
   "metadata": {},
   "source": [
    "above, notice the variation in what get labeled an outlier depending on the values set for contamination and n_neighbors"
   ]
  },
  {
   "cell_type": "code",
   "execution_count": null,
   "id": "4c4fa442",
   "metadata": {},
   "outputs": [],
   "source": []
  },
  {
   "cell_type": "code",
   "execution_count": null,
   "id": "439d43ba",
   "metadata": {},
   "outputs": [],
   "source": []
  },
  {
   "cell_type": "code",
   "execution_count": null,
   "id": "02069567",
   "metadata": {},
   "outputs": [],
   "source": []
  },
  {
   "cell_type": "code",
   "execution_count": null,
   "id": "7696e16d",
   "metadata": {},
   "outputs": [],
   "source": []
  }
 ],
 "metadata": {
  "kernelspec": {
   "display_name": "Python 3 (ipykernel)",
   "language": "python",
   "name": "python3"
  },
  "language_info": {
   "codemirror_mode": {
    "name": "ipython",
    "version": 3
   },
   "file_extension": ".py",
   "mimetype": "text/x-python",
   "name": "python",
   "nbconvert_exporter": "python",
   "pygments_lexer": "ipython3",
   "version": "3.9.7"
  }
 },
 "nbformat": 4,
 "nbformat_minor": 5
}
